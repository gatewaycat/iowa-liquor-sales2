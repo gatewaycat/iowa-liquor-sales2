{
 "cells": [
  {
   "cell_type": "markdown",
   "metadata": {},
   "source": [
    "# Generate new features to describe stores in year 2019"
   ]
  },
  {
   "cell_type": "code",
   "execution_count": 1,
   "metadata": {
    "execution": {
     "iopub.execute_input": "2020-11-30T20:15:50.564615Z",
     "iopub.status.busy": "2020-11-30T20:15:50.564266Z",
     "iopub.status.idle": "2020-11-30T20:15:53.207773Z",
     "shell.execute_reply": "2020-11-30T20:15:53.206949Z",
     "shell.execute_reply.started": "2020-11-30T20:15:50.564569Z"
    }
   },
   "outputs": [
    {
     "data": {
      "application/javascript": [
       "if (!(\"Notification\" in window)) {\n",
       "    alert(\"This browser does not support desktop notifications, so the %%notify magic will not work.\");\n",
       "} else if (Notification.permission !== 'granted' && Notification.permission !== 'denied') {\n",
       "    Notification.requestPermission(function (permission) {\n",
       "        if(!('permission' in Notification)) {\n",
       "            Notification.permission = permission;\n",
       "        }\n",
       "    })\n",
       "}\n"
      ],
      "text/plain": [
       "<IPython.core.display.Javascript object>"
      ]
     },
     "metadata": {},
     "output_type": "display_data"
    }
   ],
   "source": [
    "###############################################################################\n",
    "\n",
    "from IPython.core.interactiveshell import InteractiveShell\n",
    "import jupyternotify\n",
    "import folium\n",
    "import matplotlib.pyplot as plt\n",
    "import nest_asyncio\n",
    "import numpy as np\n",
    "import pandas as pd\n",
    "from selenium import webdriver\n",
    "\n",
    "InteractiveShell.ast_node_interactivity = \"all\"\n",
    "get_ipython().register_magics(jupyternotify.JupyterNotifyMagics)\n",
    "nest_asyncio.apply()"
   ]
  },
  {
   "cell_type": "code",
   "execution_count": 2,
   "metadata": {
    "execution": {
     "iopub.execute_input": "2020-11-30T19:11:37.247840Z",
     "iopub.status.busy": "2020-11-30T19:11:37.247435Z",
     "iopub.status.idle": "2020-11-30T19:15:07.617693Z",
     "shell.execute_reply": "2020-11-30T19:15:07.609749Z",
     "shell.execute_reply.started": "2020-11-30T19:11:37.247802Z"
    }
   },
   "outputs": [
    {
     "name": "stdout",
     "output_type": "stream",
     "text": [
      "CPU times: user 59.9 s, sys: 47.1 s, total: 1min 47s\n",
      "Wall time: 2min 3s\n",
      "CPU times: user 24.1 s, sys: 25.1 s, total: 49.1 s\n",
      "Wall time: 56.8 s\n",
      "CPU times: user 6.18 s, sys: 12.9 s, total: 19.1 s\n",
      "Wall time: 24 s\n",
      "CPU times: user 2.25 s, sys: 3.11 s, total: 5.36 s\n",
      "Wall time: 5.71 s\n"
     ]
    }
   ],
   "source": [
    "# df = pd.read_parquet('downsample.parquet')\n",
    "%time df = pd.read_parquet('data.parquet')\n",
    "\n",
    "%time df = df.dropna()\n",
    "%time df = df[~df.Anomalous]\n",
    "%time df = df[df.Date.dt.year==2019]"
   ]
  },
  {
   "cell_type": "code",
   "execution_count": 4,
   "metadata": {
    "execution": {
     "iopub.execute_input": "2020-11-30T19:16:50.079745Z",
     "iopub.status.busy": "2020-11-30T19:16:50.079385Z",
     "iopub.status.idle": "2020-11-30T19:17:04.035835Z",
     "shell.execute_reply": "2020-11-30T19:17:04.034302Z",
     "shell.execute_reply.started": "2020-11-30T19:16:50.079708Z"
    }
   },
   "outputs": [
    {
     "data": {
      "text/html": [
       "<div>\n",
       "<style scoped>\n",
       "    .dataframe tbody tr th:only-of-type {\n",
       "        vertical-align: middle;\n",
       "    }\n",
       "\n",
       "    .dataframe tbody tr th {\n",
       "        vertical-align: top;\n",
       "    }\n",
       "\n",
       "    .dataframe thead tr th {\n",
       "        text-align: left;\n",
       "    }\n",
       "</style>\n",
       "<table border=\"1\" class=\"dataframe\">\n",
       "  <thead>\n",
       "    <tr>\n",
       "      <th></th>\n",
       "      <th colspan=\"3\" halign=\"left\">Cents_pc</th>\n",
       "      <th colspan=\"4\" halign=\"left\">nunique</th>\n",
       "      <th>sum</th>\n",
       "      <th colspan=\"2\" halign=\"left\">mean</th>\n",
       "      <th colspan=\"2\" halign=\"left\">Dol_per_gal</th>\n",
       "    </tr>\n",
       "    <tr>\n",
       "      <th>Category</th>\n",
       "      <th>Vodka</th>\n",
       "      <th>Whiskey</th>\n",
       "      <th>Neutral</th>\n",
       "      <th>Category</th>\n",
       "      <th>Invoice</th>\n",
       "      <th>Item_num</th>\n",
       "      <th>Vendor_num</th>\n",
       "      <th>Cents</th>\n",
       "      <th>Latitude</th>\n",
       "      <th>Longitude</th>\n",
       "      <th>Tequila</th>\n",
       "      <th>All</th>\n",
       "    </tr>\n",
       "  </thead>\n",
       "  <tbody>\n",
       "    <tr>\n",
       "      <th>count</th>\n",
       "      <td>1578.00</td>\n",
       "      <td>1578.00</td>\n",
       "      <td>1578.00</td>\n",
       "      <td>1578.00</td>\n",
       "      <td>1578.00</td>\n",
       "      <td>1578.00</td>\n",
       "      <td>1578.00</td>\n",
       "      <td>1578.00</td>\n",
       "      <td>1578.00</td>\n",
       "      <td>1578.00</td>\n",
       "      <td>1578.00</td>\n",
       "      <td>1578.00</td>\n",
       "    </tr>\n",
       "    <tr>\n",
       "      <th>mean</th>\n",
       "      <td>0.26</td>\n",
       "      <td>0.33</td>\n",
       "      <td>0.00</td>\n",
       "      <td>8.07</td>\n",
       "      <td>1229.61</td>\n",
       "      <td>232.23</td>\n",
       "      <td>28.27</td>\n",
       "      <td>18759543.19</td>\n",
       "      <td>41.98</td>\n",
       "      <td>-93.05</td>\n",
       "      <td>109.29</td>\n",
       "      <td>58.21</td>\n",
       "    </tr>\n",
       "    <tr>\n",
       "      <th>std</th>\n",
       "      <td>0.07</td>\n",
       "      <td>0.09</td>\n",
       "      <td>0.00</td>\n",
       "      <td>1.01</td>\n",
       "      <td>1822.48</td>\n",
       "      <td>247.19</td>\n",
       "      <td>13.54</td>\n",
       "      <td>53066879.35</td>\n",
       "      <td>0.67</td>\n",
       "      <td>1.64</td>\n",
       "      <td>58.63</td>\n",
       "      <td>11.93</td>\n",
       "    </tr>\n",
       "    <tr>\n",
       "      <th>min</th>\n",
       "      <td>0.01</td>\n",
       "      <td>0.04</td>\n",
       "      <td>0.00</td>\n",
       "      <td>4.00</td>\n",
       "      <td>19.00</td>\n",
       "      <td>16.00</td>\n",
       "      <td>9.00</td>\n",
       "      <td>113611.00</td>\n",
       "      <td>40.39</td>\n",
       "      <td>-96.56</td>\n",
       "      <td>37.82</td>\n",
       "      <td>30.94</td>\n",
       "    </tr>\n",
       "    <tr>\n",
       "      <th>25%</th>\n",
       "      <td>0.21</td>\n",
       "      <td>0.28</td>\n",
       "      <td>0.00</td>\n",
       "      <td>7.00</td>\n",
       "      <td>228.00</td>\n",
       "      <td>79.00</td>\n",
       "      <td>20.00</td>\n",
       "      <td>2596270.75</td>\n",
       "      <td>41.56</td>\n",
       "      <td>-93.94</td>\n",
       "      <td>84.87</td>\n",
       "      <td>50.56</td>\n",
       "    </tr>\n",
       "    <tr>\n",
       "      <th>50%</th>\n",
       "      <td>0.26</td>\n",
       "      <td>0.34</td>\n",
       "      <td>0.00</td>\n",
       "      <td>8.00</td>\n",
       "      <td>599.00</td>\n",
       "      <td>123.00</td>\n",
       "      <td>24.00</td>\n",
       "      <td>5569260.00</td>\n",
       "      <td>41.88</td>\n",
       "      <td>-93.07</td>\n",
       "      <td>97.51</td>\n",
       "      <td>56.28</td>\n",
       "    </tr>\n",
       "    <tr>\n",
       "      <th>75%</th>\n",
       "      <td>0.30</td>\n",
       "      <td>0.39</td>\n",
       "      <td>0.00</td>\n",
       "      <td>9.00</td>\n",
       "      <td>1447.75</td>\n",
       "      <td>288.00</td>\n",
       "      <td>32.00</td>\n",
       "      <td>16874246.50</td>\n",
       "      <td>42.49</td>\n",
       "      <td>-91.65</td>\n",
       "      <td>116.30</td>\n",
       "      <td>63.43</td>\n",
       "    </tr>\n",
       "    <tr>\n",
       "      <th>max</th>\n",
       "      <td>0.58</td>\n",
       "      <td>0.76</td>\n",
       "      <td>0.07</td>\n",
       "      <td>9.00</td>\n",
       "      <td>20492.00</td>\n",
       "      <td>1536.00</td>\n",
       "      <td>112.00</td>\n",
       "      <td>1149131311.00</td>\n",
       "      <td>43.48</td>\n",
       "      <td>-90.18</td>\n",
       "      <td>1478.57</td>\n",
       "      <td>202.83</td>\n",
       "    </tr>\n",
       "  </tbody>\n",
       "</table>\n",
       "</div>"
      ],
      "text/plain": [
       "         Cents_pc                  nunique                               \\\n",
       "Category    Vodka Whiskey Neutral Category  Invoice Item_num Vendor_num   \n",
       "count     1578.00 1578.00 1578.00  1578.00  1578.00  1578.00    1578.00   \n",
       "mean         0.26    0.33    0.00     8.07  1229.61   232.23      28.27   \n",
       "std          0.07    0.09    0.00     1.01  1822.48   247.19      13.54   \n",
       "min          0.01    0.04    0.00     4.00    19.00    16.00       9.00   \n",
       "25%          0.21    0.28    0.00     7.00   228.00    79.00      20.00   \n",
       "50%          0.26    0.34    0.00     8.00   599.00   123.00      24.00   \n",
       "75%          0.30    0.39    0.00     9.00  1447.75   288.00      32.00   \n",
       "max          0.58    0.76    0.07     9.00 20492.00  1536.00     112.00   \n",
       "\n",
       "                   sum     mean           Dol_per_gal          \n",
       "Category         Cents Latitude Longitude     Tequila     All  \n",
       "count          1578.00  1578.00   1578.00     1578.00 1578.00  \n",
       "mean       18759543.19    41.98    -93.05      109.29   58.21  \n",
       "std        53066879.35     0.67      1.64       58.63   11.93  \n",
       "min          113611.00    40.39    -96.56       37.82   30.94  \n",
       "25%         2596270.75    41.56    -93.94       84.87   50.56  \n",
       "50%         5569260.00    41.88    -93.07       97.51   56.28  \n",
       "75%        16874246.50    42.49    -91.65      116.30   63.43  \n",
       "max      1149131311.00    43.48    -90.18     1478.57  202.83  "
      ]
     },
     "execution_count": 4,
     "metadata": {},
     "output_type": "execute_result"
    }
   ],
   "source": [
    "stores19 = pd.pivot_table(\n",
    "    df,\n",
    "    index='Store_num',\n",
    "    values=[\n",
    "        'Invoice',\n",
    "        'Category','Vendor_num','Item_num',\n",
    "        'Cents','Gallons','Bottle_count',\n",
    "        'Longitude','Latitude'],\n",
    "    aggfunc=['nunique','sum','mean'],\n",
    "    fill_value=0,)\n",
    "\n",
    "## Check for stores with multiple lat-long\n",
    "# stores19['nunique'][['Latitude','Longitude']].max()\n",
    "\n",
    "stores19 = stores19.drop(errors='ignore', columns=[\n",
    "    ('nunique','Bottle_count'),\n",
    "    ('nunique','Cents'),\n",
    "    ('nunique','Gallons'),\n",
    "    ('nunique','Latitude'),\n",
    "    ('nunique','Longitude'),\n",
    "    ('sum','Invoice'),\n",
    "    ('sum','Latitude'),\n",
    "    ('sum','Longitude')])\n",
    "\n",
    "def pivot_cats(value):\n",
    "    result = pd.pivot_table(\n",
    "        df,\n",
    "        index='Store_num',\n",
    "        columns='Category',\n",
    "        values=[value], # Input SINGLE column name b/c #1 below\n",
    "        aggfunc='sum',\n",
    "        fill_value=0,\n",
    "        margins=True,\n",
    "    )\n",
    "    result = result.fillna(0)\n",
    "    result = result.div(result.iloc[:,-1],axis=0) #1\n",
    "    result.columns = result.columns.set_levels(\n",
    "        [value+'_pc'],level=0)\n",
    "    return result\n",
    "stores19_cats = pd.concat(\n",
    "    [pivot_cats(c) for c in ['Cents','Gallons']],\n",
    "    axis=1)\n",
    "\n",
    "stores19_cent_gal = pd.pivot_table(\n",
    "    df,\n",
    "    index='Store_num',\n",
    "    columns='Category',\n",
    "    values=['Cents','Gallons'],\n",
    "    aggfunc='sum',\n",
    "    fill_value=0,\n",
    "    margins=True,\n",
    ").fillna(0)\n",
    "stores19_dol_per_gal = (\n",
    "    stores19_cent_gal['Cents']/stores19_cent_gal['Gallons']/100)\n",
    "stores19_dol_per_gal.columns = pd.MultiIndex.from_tuples(\n",
    "    [('Dol_per_gal',c) for c in stores19_dol_per_gal.columns])\n",
    "\n",
    "stores19_features = pd.concat(\n",
    "    [stores19_cats,stores19,stores19_dol_per_gal],\n",
    "    axis=1)\n",
    "stores19_features.index.name = 'Store_num'\n",
    "stores19_features = stores19_features[[\n",
    "    ('Cents_pc','Vodka'),\n",
    "    ('Cents_pc','Whiskey'),\n",
    "    ('Cents_pc','Neutral'),\n",
    "    ('nunique','Category'),\n",
    "    ('nunique','Invoice'),\n",
    "    ('nunique','Item_num'),\n",
    "    ('nunique','Vendor_num'),\n",
    "    ('sum','Cents'),\n",
    "    ('mean','Latitude'),\n",
    "    ('mean','Longitude'),\n",
    "    ('Dol_per_gal','Tequila'),\n",
    "    ('Dol_per_gal','All'),\n",
    "]]\n",
    "\n",
    "stores19_features = stores19_features.dropna()\n",
    "\n",
    "pd.reset_option('max_rows')\n",
    "pd.set_option('float_format', '{:.2f}'.format)\n",
    "stores19_features.describe()"
   ]
  },
  {
   "cell_type": "code",
   "execution_count": 8,
   "metadata": {
    "execution": {
     "iopub.execute_input": "2020-11-30T19:21:15.028985Z",
     "iopub.status.busy": "2020-11-30T19:21:15.028647Z",
     "iopub.status.idle": "2020-11-30T19:21:15.038516Z",
     "shell.execute_reply": "2020-11-30T19:21:15.037270Z",
     "shell.execute_reply.started": "2020-11-30T19:21:15.028950Z"
    }
   },
   "outputs": [],
   "source": [
    "stores19_features.to_pickle('stores19.pickle')"
   ]
  },
  {
   "cell_type": "markdown",
   "metadata": {},
   "source": [
    "# Why these features? Is there a spread?"
   ]
  },
  {
   "cell_type": "code",
   "execution_count": 6,
   "metadata": {
    "execution": {
     "iopub.execute_input": "2020-11-30T20:16:23.384591Z",
     "iopub.status.busy": "2020-11-30T20:16:23.384046Z",
     "iopub.status.idle": "2020-11-30T20:16:23.391775Z",
     "shell.execute_reply": "2020-11-30T20:16:23.390413Z",
     "shell.execute_reply.started": "2020-11-30T20:16:23.384495Z"
    }
   },
   "outputs": [],
   "source": [
    "InteractiveShell.ast_node_interactivity = \"last\""
   ]
  },
  {
   "cell_type": "code",
   "execution_count": 12,
   "metadata": {
    "execution": {
     "iopub.execute_input": "2020-11-30T20:16:47.781480Z",
     "iopub.status.busy": "2020-11-30T20:16:47.781144Z",
     "iopub.status.idle": "2020-11-30T20:16:48.657767Z",
     "shell.execute_reply": "2020-11-30T20:16:48.654127Z",
     "shell.execute_reply.started": "2020-11-30T20:16:47.781444Z"
    }
   },
   "outputs": [
    {
     "data": {
      "image/png": "[encoded data removed]",
      "text/plain": [
       "<Figure size 576x216 with 1 Axes>"
      ]
     },
     "metadata": {
      "needs_background": "light"
     },
     "output_type": "display_data"
    }
   ],
   "source": [
    "stores19_features = pd.read_pickle('stores19.pickle')\n",
    "fig, ax = plt.subplots()\n",
    "sales = stores19_features[('sum','Cents')]/100/1_000\n",
    "sales.hist(\n",
    "    ax=ax, bins=[0]+[10**(i/4) for i in range(-4,20)],\n",
    "    figsize=(8,3))\n",
    "ax.set_xscale('log')\n",
    "ax.set_xlabel('Thousands USD')\n",
    "ax.set_ylabel('Frequency (Number of Stores)')\n",
    "ax.set_title('Histogram: Total Sales in 2019 (log scale)');"
   ]
  },
  {
   "cell_type": "code",
   "execution_count": 13,
   "metadata": {
    "execution": {
     "iopub.execute_input": "2020-11-30T20:16:48.661160Z",
     "iopub.status.busy": "2020-11-30T20:16:48.660770Z",
     "iopub.status.idle": "2020-11-30T20:16:48.950085Z",
     "shell.execute_reply": "2020-11-30T20:16:48.948957Z",
     "shell.execute_reply.started": "2020-11-30T20:16:48.661115Z"
    }
   },
   "outputs": [
    {
     "data": {
      "image/png": "[encoded data removed]",
      "text/plain": [
       "<Figure size 576x216 with 1 Axes>"
      ]
     },
     "metadata": {
      "needs_background": "light"
     },
     "output_type": "display_data"
    }
   ],
   "source": [
    "stores19_features = pd.read_pickle('stores19.pickle')\n",
    "fig, ax = plt.subplots()\n",
    "\n",
    "pc_vodka = stores19_features[('Cents_pc','Vodka')]\n",
    "pc_vodka.hist(ax=ax, figsize=(8,3))\n",
    "\n",
    "ax.set_xlabel('Proportion')\n",
    "ax.set_ylabel('Frequency (Number of Stores)')\n",
    "ax.set_title('Histogram: Vodka as proportion of total sales in 2019');"
   ]
  },
  {
   "cell_type": "code",
   "execution_count": 14,
   "metadata": {
    "execution": {
     "iopub.execute_input": "2020-11-30T20:16:48.972239Z",
     "iopub.status.busy": "2020-11-30T20:16:48.964299Z",
     "iopub.status.idle": "2020-11-30T20:16:49.297252Z",
     "shell.execute_reply": "2020-11-30T20:16:49.296400Z",
     "shell.execute_reply.started": "2020-11-30T20:16:48.972144Z"
    }
   },
   "outputs": [
    {
     "data": {
      "image/png": "[encoded data removed]",
      "text/plain": [
       "<Figure size 576x216 with 1 Axes>"
      ]
     },
     "metadata": {
      "needs_background": "light"
     },
     "output_type": "display_data"
    }
   ],
   "source": [
    "stores19_features = pd.read_pickle('stores19.pickle')\n",
    "fig, ax = plt.subplots()\n",
    "\n",
    "unique_vendors = stores19_features[('nunique','Vendor_num')]\n",
    "unique_vendors.hist(ax=ax, figsize=(8,3))\n",
    "\n",
    "ax.set_xlabel('Number of unique vendors')\n",
    "ax.set_ylabel('Frequency (Number of Stores)')\n",
    "ax.set_title('Histogram: Number of unique vendors');"
   ]
  },
  {
   "cell_type": "code",
   "execution_count": 15,
   "metadata": {
    "execution": {
     "iopub.execute_input": "2020-11-30T20:16:49.300451Z",
     "iopub.status.busy": "2020-11-30T20:16:49.299780Z",
     "iopub.status.idle": "2020-11-30T20:16:49.745254Z",
     "shell.execute_reply": "2020-11-30T20:16:49.743842Z",
     "shell.execute_reply.started": "2020-11-30T20:16:49.300383Z"
    }
   },
   "outputs": [
    {
     "data": {
      "image/png": "[encoded data removed]",
      "text/plain": [
       "<Figure size 576x216 with 1 Axes>"
      ]
     },
     "metadata": {
      "needs_background": "light"
     },
     "output_type": "display_data"
    }
   ],
   "source": [
    "stores19_features = pd.read_pickle('stores19.pickle')\n",
    "fig, ax = plt.subplots()\n",
    "\n",
    "dol_per_gal = stores19_features[('Dol_per_gal','All')]\n",
    "dol_per_gal.hist(ax=ax, figsize=(8,3), bins=[10*i for i in range(2,14)])\n",
    "\n",
    "ax.set_xlim(0,120)\n",
    "\n",
    "ax.set_xlabel('Average retail sales price of item in store ($/gal)')\n",
    "ax.set_ylabel('Frequency (Number of Stores)')\n",
    "ax.set_title('Histogram: Average retail sales price ($/gal)');\n"
   ]
  }
 ],
 "metadata": {
  "kernelspec": {
   "display_name": "Python 3",
   "language": "python",
   "name": "python3"
  },
  "language_info": {
   "codemirror_mode": {
    "name": "ipython",
    "version": 3
   },
   "file_extension": ".py",
   "mimetype": "text/x-python",
   "name": "python",
   "nbconvert_exporter": "python",
   "pygments_lexer": "ipython3",
   "version": "3.8.3"
  }
 },
 "nbformat": 4,
 "nbformat_minor": 4
}
